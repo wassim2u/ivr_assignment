{
 "cells": [
  {
   "cell_type": "code",
   "execution_count": 1,
   "metadata": {},
   "outputs": [],
   "source": [
    "import tensorflow as tf\n",
    "from tensorflow.keras import layers"
   ]
  },
  {
   "cell_type": "code",
   "execution_count": 2,
   "metadata": {},
   "outputs": [
    {
     "name": "stdout",
     "output_type": "stream",
     "text": [
      "Found 24320 files belonging to 2 classes.\n",
      "Using 19456 files for training.\n",
      "Found 24320 files belonging to 2 classes.\n",
      "Using 4864 files for validation.\n"
     ]
    }
   ],
   "source": [
    "#Import image\n",
    "batch_size=32\n",
    "train_data = tf.keras.preprocessing.image_dataset_from_directory(\"./small_data\", validation_split=0.2, subset=\"training\", seed=1, batch_size=batch_size, image_size=(32,32))\n",
    "val_data = tf.keras.preprocessing.image_dataset_from_directory(\"./small_data\", validation_split=0.2, subset=\"validation\", seed=1, batch_size=batch_size,  image_size=(32,32))"
   ]
  },
  {
   "cell_type": "code",
   "execution_count": 3,
   "metadata": {},
   "outputs": [],
   "source": [
    "class_names = train_data.class_names"
   ]
  },
  {
   "cell_type": "code",
   "execution_count": 4,
   "metadata": {},
   "outputs": [],
   "source": [
    "#In case the data is not standardized, standardize it here\n",
    "normalization_layer = tf.keras.layers.experimental.preprocessing.Rescaling(1./255)\n",
    "\n",
    "AUTOTUNE = tf.data.experimental.AUTOTUNE\n",
    "\n",
    "train_ds = train_data.cache().prefetch(buffer_size=AUTOTUNE)\n",
    "val_ds = val_data.cache().prefetch(buffer_size=AUTOTUNE)\n",
    "\n",
    "num_classes = len(class_names)"
   ]
  },
  {
   "cell_type": "code",
   "execution_count": 5,
   "metadata": {},
   "outputs": [
    {
     "name": "stdout",
     "output_type": "stream",
     "text": [
      "Epoch 1/5\n",
      "608/608 [==============================] - 7s 11ms/step - loss: 0.0918 - accuracy: 0.9620 - val_loss: 8.9771e-04 - val_accuracy: 1.0000\n",
      "Epoch 2/5\n",
      "608/608 [==============================] - 6s 10ms/step - loss: 7.5647e-04 - accuracy: 0.9999 - val_loss: 1.6285e-04 - val_accuracy: 1.0000\n",
      "Epoch 3/5\n",
      "608/608 [==============================] - 6s 10ms/step - loss: 0.0250 - accuracy: 0.9947 - val_loss: 5.1187e-04 - val_accuracy: 1.0000\n",
      "Epoch 4/5\n",
      "608/608 [==============================] - 6s 10ms/step - loss: 1.6677e-04 - accuracy: 1.0000 - val_loss: 2.5375e-04 - val_accuracy: 1.0000\n",
      "Epoch 5/5\n",
      "608/608 [==============================] - 7s 11ms/step - loss: 6.6439e-05 - accuracy: 1.0000 - val_loss: 1.7742e-04 - val_accuracy: 1.0000\n"
     ]
    },
    {
     "data": {
      "text/plain": [
       "<tensorflow.python.keras.callbacks.History at 0x7f2bf848aa30>"
      ]
     },
     "execution_count": 5,
     "metadata": {},
     "output_type": "execute_result"
    }
   ],
   "source": [
    "#Create model\n",
    "model = tf.keras.Sequential([\n",
    "  layers.experimental.preprocessing.Rescaling(1./255),\n",
    "  layers.Conv2D(32, 3, activation='relu'),\n",
    "  layers.MaxPooling2D(),\n",
    "  layers.Conv2D(32, 3, activation='relu'),\n",
    "  layers.MaxPooling2D(),\n",
    "  layers.Flatten(),\n",
    "  layers.Dense(128, activation='relu'),\n",
    "  layers.Dense(num_classes)\n",
    "])\n",
    "\n",
    "model.compile(\n",
    "  optimizer='adam',\n",
    "  loss=tf.losses.SparseCategoricalCrossentropy(from_logits=True),\n",
    "  metrics=['accuracy'])\n",
    "\n",
    "model.fit(\n",
    "  train_ds,\n",
    "  validation_data=val_ds,\n",
    "  epochs=5\n",
    ")"
   ]
  },
  {
   "cell_type": "code",
   "execution_count": 6,
   "metadata": {},
   "outputs": [],
   "source": [
    "import os\n",
    "import matplotlib.pyplot as plt\n",
    "import numpy as np\n",
    "\n",
    "#Test images that are in the format of the images that we will actually use\n",
    "test_folder = \"./small_test_data\"\n",
    "\n",
    "for filename in os.listdir(test_folder):\n",
    "    \n",
    "    if (not(\"png\" in filename)):\n",
    "        continue\n",
    "    \n",
    "    path = os.path.join(test_folder, filename)\n",
    "    \n",
    "    img = tf.keras.preprocessing.image.load_img(\n",
    "        path, target_size=(32, 32)\n",
    "    )\n",
    "    img_array = tf.keras.preprocessing.image.img_to_array(img)\n",
    "    img_array = tf.expand_dims(img_array, 0) # Create a batch\n",
    "\n",
    "    predictions = model.predict(img_array)\n",
    "    score = tf.nn.softmax(predictions[0])\n",
    "    plt.imshow(img)\n",
    "    plt.show()\n",
    "\n",
    "    print(\n",
    "        \"This image most likely belongs to {} with a {:.2f} percent confidence.\"\n",
    "        .format(class_names[np.argmax(score)], 100 * np.max(score))\n",
    "    )"
   ]
  },
  {
   "cell_type": "code",
   "execution_count": 7,
   "metadata": {},
   "outputs": [
    {
     "name": "stdout",
     "output_type": "stream",
     "text": [
      "WARNING:tensorflow:From /home/bella/miniconda3/lib/python3.8/site-packages/tensorflow/python/training/tracking/tracking.py:111: Model.state_updates (from tensorflow.python.keras.engine.training) is deprecated and will be removed in a future version.\n",
      "Instructions for updating:\n",
      "This property should not be used in TensorFlow 2.0, as updates are applied automatically.\n",
      "WARNING:tensorflow:From /home/bella/miniconda3/lib/python3.8/site-packages/tensorflow/python/training/tracking/tracking.py:111: Layer.updates (from tensorflow.python.keras.engine.base_layer) is deprecated and will be removed in a future version.\n",
      "Instructions for updating:\n",
      "This property should not be used in TensorFlow 2.0, as updates are applied automatically.\n",
      "INFO:tensorflow:Assets written to: ./src/model/assets\n"
     ]
    }
   ],
   "source": [
    "#Finally, save the model\n",
    "model.save(\"./src/model\")"
   ]
  },
  {
   "cell_type": "code",
   "execution_count": 8,
   "metadata": {},
   "outputs": [],
   "source": [
    "#Now convert the model\n",
    "converter = tf.lite.TFLiteConverter.from_saved_model(\"./src/model\")\n",
    "tflite_model = converter.convert()\n",
    "\n",
    "# Save the model\n",
    "with open('target_model.tflite', 'wb') as f:\n",
    "  f.write(tflite_model)"
   ]
  }
 ],
 "metadata": {
  "kernelspec": {
   "display_name": "Python 3",
   "language": "python",
   "name": "python3"
  },
  "language_info": {
   "codemirror_mode": {
    "name": "ipython",
    "version": 3
   },
   "file_extension": ".py",
   "mimetype": "text/x-python",
   "name": "python",
   "nbconvert_exporter": "python",
   "pygments_lexer": "ipython3",
   "version": "3.8.3"
  }
 },
 "nbformat": 4,
 "nbformat_minor": 4
}
